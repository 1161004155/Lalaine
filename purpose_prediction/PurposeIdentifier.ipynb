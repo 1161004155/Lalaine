{
 "cells": [
  {
   "cell_type": "code",
   "execution_count": 7,
   "metadata": {
    "collapsed": true
   },
   "outputs": [
    {
     "name": "stderr",
     "output_type": "stream",
     "text": [
      "/Users/yueqin/opt/anaconda3/envs/py36/lib/python3.6/site-packages/IPython/core/interactiveshell.py:3072: DtypeWarning: Columns (1,14,18,34,35,36,37,38,39,40,41,42,43,44,45,46,47,48,49,50,51,52,53,54,55,56,57,58,59,60,61,62,63,64) have mixed types.Specify dtype option on import or set low_memory=False.\n",
      "  interactivity=interactivity, compiler=compiler, result=result)\n"
     ]
    }
   ],
   "source": [
    "import pandas as pd\n",
    "import numpy as np\n",
    "import seaborn as sns\n",
    "import matplotlib.pyplot as plt\n",
    "import missingno as mso\n",
    "import warnings\n",
    "import re\n",
    "from sklearn.preprocessing import LabelEncoder\n",
    "from sklearn.feature_extraction.text import CountVectorizer\n",
    "from sklearn.feature_extraction.text import TfidfTransformer\n",
    "import random\n",
    "# import pycaret\n",
    "# from pycaret.classification import *\n",
    "from sklearn.linear_model import LogisticRegression\n",
    "from sklearn.ensemble import RandomForestClassifier\n",
    "from sklearn.model_selection import train_test_split\n",
    "from sklearn.metrics import confusion_matrix, classification_report, accuracy_score, f1_score\n",
    "import lightgbm as lgb\n",
    "gt_x, gt_y = pd.read_csv('./data/gt_x.csv'), pd.read_csv('./data/gt_y.csv')\n",
    "total_data = pd.read_csv('./data/corpus.csv')"
   ]
  },
  {
   "cell_type": "code",
   "execution_count": 13,
   "outputs": [
    {
     "name": "stderr",
     "output_type": "stream",
     "text": [
      "/Users/yueqin/opt/anaconda3/envs/py36/lib/python3.6/re.py:212: FutureWarning: split() requires a non-empty pattern match.\n",
      "  return _compile(pattern, flags).split(string, maxsplit)\n",
      "/Users/yueqin/opt/anaconda3/envs/py36/lib/python3.6/site-packages/sklearn/feature_extraction/text.py:484: UserWarning: The parameter 'token_pattern' will not be used since 'tokenizer' is not None'\n",
      "  warnings.warn(\"The parameter 'token_pattern' will not be used\"\n"
     ]
    }
   ],
   "source": [
    "\n",
    "cat_cols  = ['app','subdomain','domain','suffix','API_method','API_class','company']#,,'API_class','API_method','caller_method']#,'caller_class']#,'caller_class']#,'caller_method']#,]#,'company']\n",
    "num_cols = ['QB_len','SB_len','API_freq']#'edit_distance']#,'API_freq']\n",
    "bow_cols = ['path','url_arg_keys','QH_keys','QB_keys','SH_keys','SB_keys']\n",
    "dom_col = 'domain_category'\n",
    "\n",
    "cols = cat_cols + bow_cols + num_cols + [dom_col]\n",
    "bow_feat = total_data[bow_cols].fillna('')\n",
    "dom_feat = total_data[dom_col].fillna('')\n",
    "def make_corpus(data):\n",
    "    if len(data.shape)==1:\n",
    "        return [x for x in data]\n",
    "    else:\n",
    "        corpus = []\n",
    "        for i, feat in enumerate(data.iterrows()):\n",
    "            feats =[x for x in data.iloc[i]]\n",
    "            feats = ','.join(feats)\n",
    "            corpus.append(feats)\n",
    "        return corpus\n",
    "\n",
    "def fit_vectorizor(bow_feat,dom_feat):\n",
    "    beat_vec = CountVectorizer(tokenizer = lambda x: re.split('/|-|,|',x),stop_words='english',min_df = 0.001,max_df=0.9)\n",
    "    transformer = TfidfTransformer()\n",
    "    corpus = []\n",
    "    for i, feat in enumerate(bow_feat.iterrows()):\n",
    "        feats =[x for x in bow_feat.iloc[i]]\n",
    "        feats = ','.join(feats)\n",
    "        corpus.append(feats)\n",
    "    # print(corpus)\n",
    "    transformer.fit(beat_vec.fit_transform(corpus))\n",
    "    dom_vec = CountVectorizer(tokenizer = lambda x: re.split(' |,',x))\n",
    "    dom_corpus = [x for x in dom_feat]\n",
    "    dom_vec.fit(dom_corpus)\n",
    "    return beat_vec, transformer, dom_vec\n",
    "\n",
    "beat_vec, transformer, dom_vec = fit_vectorizor(bow_feat,dom_feat)"
   ],
   "metadata": {
    "collapsed": false,
    "pycharm": {
     "name": "#%%\n"
    }
   }
  },
  {
   "cell_type": "code",
   "execution_count": 14,
   "outputs": [
    {
     "name": "stdout",
     "output_type": "stream",
     "text": [
      "purpose                             \n",
      "Analytics                               1212\n",
      "App Functionality                        532\n",
      "Third-Party Advertising                  247\n",
      "Developer's Advertising or Marketing     191\n",
      "Product Personalization                  113\n",
      "dtype: int64\n"
     ]
    },
    {
     "name": "stderr",
     "output_type": "stream",
     "text": [
      "/Users/yueqin/opt/anaconda3/envs/py36/lib/python3.6/site-packages/sklearn/utils/validation.py:72: DataConversionWarning: A column-vector y was passed when a 1d array was expected. Please change the shape of y to (n_samples, ), for example using ravel().\n",
      "  return f(**kwargs)\n"
     ]
    },
    {
     "name": "stdout",
     "output_type": "stream",
     "text": [
      "Test - LightGBM\n",
      "Accuracy: 0.9599303135888502\n",
      "Micro F1: 0.9599303135888502\n",
      "Macro F1: 0.9489969238671556\n",
      "Weighted F1: 0.9595621125397461\n",
      "                                      precision    recall  f1-score   support\n",
      "\n",
      "                           Analytics       0.96      0.98      0.97       303\n",
      "                   App Functionality       0.96      0.93      0.95       133\n",
      "Developer's Advertising or Marketing       0.93      0.85      0.89        48\n",
      "             Product Personalization       0.93      1.00      0.97        28\n",
      "             Third-Party Advertising       0.97      0.97      0.97        62\n",
      "\n",
      "                            accuracy                           0.96       574\n",
      "                           macro avg       0.95      0.95      0.95       574\n",
      "                        weighted avg       0.96      0.96      0.96       574\n",
      "\n",
      "(766, 66)\n"
     ]
    },
    {
     "name": "stderr",
     "output_type": "stream",
     "text": [
      "/Users/yueqin/opt/anaconda3/envs/py36/lib/python3.6/re.py:212: FutureWarning: split() requires a non-empty pattern match.\n",
      "  return _compile(pattern, flags).split(string, maxsplit)\n",
      "/Users/yueqin/opt/anaconda3/envs/py36/lib/python3.6/site-packages/seaborn/distributions.py:2557: FutureWarning: `distplot` is a deprecated function and will be removed in a future version. Please adapt your code to use either `displot` (a figure-level function with similar flexibility) or `histplot` (an axes-level function for histograms).\n",
      "  warnings.warn(msg, FutureWarning)\n"
     ]
    },
    {
     "name": "stdout",
     "output_type": "stream",
     "text": [
      "Feature Dimension: Categorical:(766, 7), Numerical:(766, 3), BOW:(766, 6),BOW Encoded:(766, 3690), Domain:(766,),Domain Encoded:(766, 377)\n",
      "Domain Category BOW Features: 377\n",
      "Application - LightGBM\n",
      "(766,) (766, 66)\n",
      "(766, 68)\n",
      "Accuracy: 0.9621409921671018\n",
      "Micro F1: 0.9621409921671018\n",
      "Macro F1: 0.9398673214595477\n",
      "Weighted F1: 0.961265580231698\n",
      "                                      precision    recall  f1-score   support\n",
      "\n",
      "                           Analytics       0.96      1.00      0.98       405\n",
      "                   App Functionality       0.97      0.97      0.97       178\n",
      "Developer's Advertising or Marketing       0.94      0.79      0.86        63\n",
      "             Product Personalization       0.95      0.95      0.95        37\n",
      "             Third-Party Advertising       0.97      0.92      0.94        83\n",
      "\n",
      "                            accuracy                           0.96       766\n",
      "                           macro avg       0.96      0.92      0.94       766\n",
      "                        weighted avg       0.96      0.96      0.96       766\n",
      "\n"
     ]
    },
    {
     "data": {
      "text/plain": "<Figure size 432x288 with 1 Axes>",
      "image/png": "[encoded data removed]"
     },
     "metadata": {
      "needs_background": "light"
     },
     "output_type": "display_data"
    }
   ],
   "source": [
    "\n",
    "def metrix(y_true, y_pred):\n",
    "    print('Accuracy:',accuracy_score(y_true, y_pred))\n",
    "    print('Micro F1:',f1_score(y_true, y_pred, average='micro'))\n",
    "    print('Macro F1:',f1_score(y_true, y_pred, average='macro'))\n",
    "    print('Weighted F1:',f1_score(y_true, y_pred, average='weighted'))\n",
    "\n",
    "    # print(confusion_matrix(y_true, y_pred))\n",
    "    print(classification_report(y_true, y_pred))\n",
    "\n",
    "def train_model(data,label):\n",
    "    # print(data.iloc[:3],label.iloc[:3])\n",
    "    ignore_cols = [x for x in data.columns if x not in cat_cols and x not in bow_cols and x not in num_cols]\n",
    "    cat_feat = data[cat_cols].astype(str)\n",
    "    # print(cat_feat)\n",
    "    cat_feat = cat_feat.apply(LabelEncoder().fit_transform)\n",
    "    num_feat = data[num_cols].astype(float)\n",
    "    dcn = pd.concat([cat_feat,num_feat ], axis=1)\n",
    "    dcn = dcn.fillna(0)\n",
    "    # label = data['purpose']\n",
    "    bow_feat = data[bow_cols].fillna('')\n",
    "    corpus = []\n",
    "    for i, feat in enumerate(bow_feat.iterrows()):\n",
    "        feats =[x for x in bow_feat.iloc[i]]\n",
    "        feats = ','.join(feats)\n",
    "        corpus.append(feats)\n",
    "    bow_feat_encoded = transformer.transform(beat_vec.transform(corpus)).toarray()\n",
    "    # print(\"Aggregated BOW Features:\",len(vectorizer.vocabulary_.keys()))\n",
    "    dom_feat = data[dom_col]\n",
    "    dom_feat = dom_feat.fillna('')\n",
    "    dom_corpus = [x for x in dom_feat]\n",
    "\n",
    "    dom_feat_encoded = dom_vec.transform(dom_corpus).toarray()\n",
    "    # print(\"Domain Category BOW Features:\",len(dom_vec.vocabulary_.keys()))\n",
    "    # print(dcn.shape,bow_feat_encoded.shape, dom_feat_encoded.shape)\n",
    "    # full_feat = np.concatenate([np.array(dcn),dom_feat_encoded], axis=1)\n",
    "\n",
    "    full_feat = np.concatenate([np.array(dcn), bow_feat_encoded,dom_feat_encoded], axis=1)\n",
    "    X,y = full_feat, label\n",
    "    y = y.replace('Developer Advertising or Marketing',\"Developer's Advertising or Marketing\")\n",
    "    print(y.value_counts())\n",
    "    X_train, X_test, y_train, y_test = train_test_split(X, y, test_size=0.25, stratify=y, shuffle=1, random_state=8)\n",
    "    #\n",
    "    # lrclf = LogisticRegression(solver='liblinear')\n",
    "    # lrclf.fit(X_train, y_train)\n",
    "    # print(\"Train--Logistic Regression\")\n",
    "    # metrix(y_train, lrclf.predict(X_train))\n",
    "    # print(\"Test - Logistic Regression\")\n",
    "    # metrix(y_test, lrclf.predict(X_test))\n",
    "    #\n",
    "    # rfclf = RandomForestClassifier(n_estimators=200)\n",
    "    # rfclf.fit(X_train, y_train)\n",
    "    # print(\"Train--Random Forest\")\n",
    "    # metrix(y_train, rfclf.predict(X_train))\n",
    "    # print(\"Test - Random Forest\")\n",
    "    # metrix(y_test, rfclf.predict(X_test))\n",
    "\n",
    "    lgbmclf = lgb.LGBMClassifier(colsample_bytree=1.0,\n",
    "                   importance_type='split', learning_rate=0.1, max_depth=10,\n",
    "                   min_child_samples=20, min_child_weight=0.001, min_split_gain=0.0,\n",
    "                   n_estimators=50, n_jobs=-1, num_leaves=50, objective=None,\n",
    "                   random_state=123, reg_alpha=0.0, reg_lambda=0.0, silent=True,\n",
    "                   subsample=1.0, subsample_for_bin=200000, subsample_freq=0,saved_feature_importance_type=1)\n",
    "    lgbmclf.fit(X_train, y_train)\n",
    "    # print(\"Train--LightGBM\")\n",
    "    # metrix(y_train, lgbmclf.predict(X_train))\n",
    "    print(\"Test - LightGBM\")\n",
    "    metrix(y_test, lgbmclf.predict(X_test))\n",
    "    return lgbmclf\n",
    "\n",
    "\n",
    "def evaluate_application(clf, filename, output_filename):\n",
    "    raw_data = pd.read_csv(filename, delimiter=',',  error_bad_lines=False)\n",
    "    # print(raw_data['purpose'].isna().index)\n",
    "    raw_data.dropna(axis=0,subset =[\"purpose\"],inplace=True)\n",
    "    print(raw_data.shape)\n",
    "    ignore_cols = [x for x in raw_data.columns if x not in cat_cols and x not in bow_cols and x not in num_cols]\n",
    "\n",
    "    cat_feat = raw_data[cat_cols].astype(str)\n",
    "    cat_feat = cat_feat.apply(LabelEncoder().fit_transform)\n",
    "\n",
    "    num_feat = raw_data[num_cols]#.astype(float)\n",
    "    for i, item in num_feat.iterrows():\n",
    "        try:\n",
    "            item = item.astype(float)\n",
    "        except:\n",
    "            # print(i,item,'--')\n",
    "            # print( num_feat.loc[i,'QB_len'])\n",
    "            num_feat.loc[i,'QB_len'] = 21\n",
    "            # print( '+++',num_feat.loc[i],'+++')\n",
    "    num_feat = num_feat.astype(float)\n",
    "\n",
    "    dcn = pd.concat([cat_feat,num_feat ], axis=1)\n",
    "    dcn = dcn.fillna(0)\n",
    "    bow_feat = raw_data[bow_cols].fillna('')\n",
    "\n",
    "    corpus = []\n",
    "    for i, feat in enumerate(bow_feat.iterrows()):\n",
    "        feats =[x for x in bow_feat.iloc[i]]\n",
    "        feats = ','.join(feats)\n",
    "        corpus.append(feats)\n",
    "    # print(np.sum(feat.toarray(),axis=1))\n",
    "    bow_feat_encoded = transformer.transform(beat_vec.transform(corpus)).toarray()\n",
    "\n",
    "    dom_feat = raw_data[dom_col]\n",
    "    dom_feat = dom_feat.fillna('')\n",
    "    dom_corpus = [x for x in dom_feat]\n",
    "\n",
    "    dom_feat_encoded = dom_vec.transform(dom_corpus).toarray()\n",
    "    print(\"Feature Dimension: Categorical:{}, Numerical:{}, BOW:{},BOW Encoded:{}, Domain:{},Domain Encoded:{}\".format(cat_feat.shape, num_feat.shape, bow_feat.shape,bow_feat_encoded.shape,dom_feat.shape,dom_feat_encoded.shape)    )\n",
    "\n",
    "    print(\"Domain Category BOW Features:\",len(dom_vec.vocabulary_.keys()))\n",
    "    # print(dcn.shape,bow_feat_encoded.shape, dom_feat_encoded.shape)\n",
    "    full_feat = np.concatenate([np.array(dcn), bow_feat_encoded,dom_feat_encoded], axis=1)\n",
    "    X = full_feat\n",
    "\n",
    "    print(\"Application - LightGBM\")\n",
    "    pred = clf.predict(X)\n",
    "    max_pred_prob = (clf.predict_proba(X).max(axis=1))\n",
    "    # print(\"Prob:\",pred_prob[:10])\n",
    "    # print('Num of unique confidence:',np.unique(max_pred_prob))\n",
    "    # asc_idx =  np.argsort(max_pred_prob)\n",
    "    print(pred.shape, raw_data.shape)\n",
    "    raw_data['Prediction'] = pred\n",
    "    raw_data['Confidence'] = max_pred_prob\n",
    "    raw_data.to_csv(output_filename)\n",
    "    print(raw_data.shape)\n",
    "    # out_data = pd.concat([raw_data,p])\n",
    "    sns.distplot(max_pred_prob)\n",
    "    pred = pred.reshape(-1,1)\n",
    "    # print('++',pred)\n",
    "    if 'purpose' in raw_data.columns:\n",
    "        y = raw_data['purpose']\n",
    "        y = y.replace('Developer Advertising or Marketing',\"Developer's Advertising or Marketing\")\n",
    "        for item in y:\n",
    "            if type(item)==float: print(item)\n",
    "        metrix(y, pred)\n",
    "\n",
    "    np.savetxt(filename.replace('.csv','')+'.lgbmclf.csv',pred,fmt = '%s')\n",
    "    return bow_feat_encoded.shape[1],dom_feat_encoded.shape[1]\n",
    "lgbmclf= train_model(gt_x,gt_y)\n",
    "bow_feat_dim, dom_feat_dim = evaluate_application(lgbmclf, './data/test.csv','./data/test_results.csv')\n"
   ],
   "metadata": {
    "collapsed": false,
    "pycharm": {
     "name": "#%%\n"
    }
   }
  },
  {
   "cell_type": "code",
   "execution_count": null,
   "outputs": [],
   "source": [],
   "metadata": {
    "collapsed": false,
    "pycharm": {
     "name": "#%%\n"
    }
   }
  }
 ],
 "metadata": {
  "kernelspec": {
   "display_name": "Python 3",
   "language": "python",
   "name": "python3"
  },
  "language_info": {
   "codemirror_mode": {
    "name": "ipython",
    "version": 2
   },
   "file_extension": ".py",
   "mimetype": "text/x-python",
   "name": "python",
   "nbconvert_exporter": "python",
   "pygments_lexer": "ipython2",
   "version": "2.7.6"
  }
 },
 "nbformat": 4,
 "nbformat_minor": 0
}